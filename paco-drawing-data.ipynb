{
 "cells": [
  {
   "cell_type": "markdown",
   "metadata": {},
   "source": [
    "\n",
    "First things first: forgive me for being bad at explaining stuff in general lol\n",
    "\n",
    "Initally, I'm using a Python script to convert an exported CSV files off of Google Sheets into a JSON files... The only time I realized that this was the most dumbest thing I've made since D3 and Chart.js can read off of CSV files lol"
   ]
  },
  {
   "cell_type": "code",
   "execution_count": null,
   "metadata": {},
   "outputs": [],
   "source": [
    "import csv\n",
    "import json\n",
    "\n",
    "with open(\"assets/raw_ps.csv\", \"r\") as f:\n",
    "  reader = csv.reader(f)\n",
    "  next(reader)\n",
    "  data = []\n",
    "  for row in reader:\n",
    "    data.append(\n",
    "        {\"date\": row[0],\n",
    "         \"name\": row[1],\n",
    "         \"characters\": row[2],\n",
    "         \"species\": row[3],\n",
    "         \"expressions\": row[4],\n",
    "         \"medium\": row[5],\n",
    "         \"source\": row[6]\n",
    "         })\n",
    "\n",
    "with open(\"assets/final.json\", \"w\") as f:\n",
    "  json.dump(data, f, indent=2)\n",
    "  print(\"Dookied out a stupid json file\") # Yes I'm definitely a *mature* developer lmao"
   ]
  },
  {
   "cell_type": "markdown",
   "metadata": {},
   "source": [
    "## Gathering and parsing data\n",
    "\n",
    "Firstly, I collect data from all 1,900+ (and counting) drawings from an experienced artist and illustrator, Paco (or known as pandapaco in some cases). The data will collect things such as:\n",
    "\n",
    "- Name and date of the piece\n",
    "- Species and character names\n",
    "- and facial expressions\n",
    "\n",
    "I was also planning to get the most colors used (only in each characters, excluding backgrounds and items) but there are things like shading and color correction, it will be a tedious and cumbersome dataset to get; yes we can refer it to their fursona's ref sheet and get the colors that way, but for now - I won't fetch this dataset.\n",
    "\n",
    "Of course, since there are 2 or more characters (and some duplicates) - there will be an extra row for each `species` and `characters` that'll be incremented by one. I assume that there are 3 to 6 characters he draws on each artwork, idk lol"
   ]
  },
  {
   "cell_type": "markdown",
   "metadata": {},
   "source": [
    "### `species` and `characters` data\n",
    "\n",
    "As mentioned previously above, there will be an extra set of incremented `species` and `characters` rows when multiple characters are present on each artwork.\n",
    "\n",
    "For generalizing the `species` data to the website, it's going to be categorized into foxes, canines, yeens, etc. Hybrids, protogens, and other exotic and/or fictional species will be categorized as \"Others\"."
   ]
  }
 ],
 "metadata": {
  "interpreter": {
   "hash": "4cccef0b623dea535a8b0ba63ca3bed1c9df0f45edf1dfc4827d6800098bd789"
  },
  "kernelspec": {
   "display_name": "Python 3.10.0 64-bit",
   "language": "python",
   "name": "python3"
  },
  "language_info": {
   "name": "python",
   "version": "3.9.5"
  },
  "orig_nbformat": 4
 },
 "nbformat": 4,
 "nbformat_minor": 2
}
