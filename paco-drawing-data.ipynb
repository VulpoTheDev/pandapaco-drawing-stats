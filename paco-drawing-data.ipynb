{
 "cells": [
  {
   "cell_type": "markdown",
   "metadata": {},
   "source": [
    "# Gathering drawing data\n",
    "\n",
    "> Some of the info provided isn't complete yet and doesn't make any sense \n",
    "> in some parts through out this notebook.\n",
    "\n",
    "## Intro\n",
    "I *manually* collect data from all 1,900+ (and counting) drawings from an experienced furry artist and illustrator, Paco (aka pandapaco, or Paco Panda). The data will collect things such as:\n",
    "\n",
    "- Name and date of the artwork\n",
    "- Species and character names\n",
    "- Number of character in each artwork\n",
    "- Facial expressions\n",
    "- Medium (either drawn digitally or traditional with exceptions of programs and tools used)\n",
    "- Source (either from FurAffinity or DeviantArt)\n",
    "\n",
    "I was also planning to get the most colors used, as in only in each characters, excluding backgrounds, items, etc. However, because I have deal with shading and color correction, it will be a tedious and cumbersome dataset to obtain; yes we can refer it to their fursona's ref sheet and get the colors that way but there are some cases that it won't be available, so for now - I won't add this dataset."
   ]
  },
  {
   "cell_type": "markdown",
   "metadata": {},
   "source": [
    "### `species`, `characters`, and `expressions` columns\n",
    "\n",
    "Since there are 2 or more characters, and some duplicates - there will be an extra set of columns for each `species`, `characters` and `expressions` that'll be incremented by one. I assume that there are by average 3 to 6 characters he draws on each artwork.\n",
    "\n",
    "For generalizing the `species` data to the website, it's going to be explicitly categorized into, well... foxes, canines, cats, yeens, etc. Hybrids are categorized in their own category, while species like protogens, and other exotic and/or fictional species will be categorized as \"Others\"."
   ]
  },
  {
   "cell_type": "markdown",
   "metadata": {},
   "source": [
    "## How this process works"
   ]
  },
  {
   "cell_type": "code",
   "execution_count": 8,
   "metadata": {},
   "outputs": [],
   "source": [
    "import pandas as pandapaco"
   ]
  },
  {
   "cell_type": "markdown",
   "metadata": {},
   "source": [
    "[This Google Sheet](https://docs.google.com/spreadsheets/d/1fpNL-qbfZ53H-6WdqEB2X9rwn9QmM1porJqKgBC7rPk/edit?usp=sharing) contains all raw data and get a slice of data as an example to truncate, summarize, visualize some data through the web browser.\n",
    "\n",
    "As an example, we'll take one of his artworks [*\"First Meet\"*](https://www.deviantart.com/pandapaco/art/First-Meet-901151258) and analyze it, the image is cropped for clarity.\n",
    "<p>\n",
    "  <a href=\"https://www.deviantart.com/pandapaco/art/First-Meet-901151258\">\n",
    "    <img src=\"data/img/first_meet_by_pandapaco.jpg\" width=\"600\">\n",
    "  </a>\n",
    "</p>\n",
    "\n",
    "Two characters are visible: which are Kazan and Steffen respectively, their species are wolf and an otter; Kazan's expression is shy, while Steffen is engaging to Kazan, where I append the `Engaged` value in the `Expression(s)` column; the artwork is traditionally drawn taken from a camera. So overall, the result should be something like this in the dataset:"
   ]
  },
  {
   "cell_type": "code",
   "execution_count": 9,
   "metadata": {},
   "outputs": [
    {
     "data": {
      "text/html": [
       "<div>\n",
       "<style scoped>\n",
       "    .dataframe tbody tr th:only-of-type {\n",
       "        vertical-align: middle;\n",
       "    }\n",
       "\n",
       "    .dataframe tbody tr th {\n",
       "        vertical-align: top;\n",
       "    }\n",
       "\n",
       "    .dataframe thead th {\n",
       "        text-align: right;\n",
       "    }\n",
       "</style>\n",
       "<table border=\"1\" class=\"dataframe\">\n",
       "  <thead>\n",
       "    <tr style=\"text-align: right;\">\n",
       "      <th></th>\n",
       "      <th>Date</th>\n",
       "      <th>Title</th>\n",
       "      <th>Character(s)</th>\n",
       "      <th>Species</th>\n",
       "      <th>Expression(s)</th>\n",
       "      <th>Medium</th>\n",
       "    </tr>\n",
       "  </thead>\n",
       "  <tbody>\n",
       "    <tr>\n",
       "      <th>0</th>\n",
       "      <td>12/19/21</td>\n",
       "      <td>First Meet</td>\n",
       "      <td>Kazan, Steffen</td>\n",
       "      <td>Wolf, Otter</td>\n",
       "      <td>Shy, Engaged</td>\n",
       "      <td>Traditional</td>\n",
       "    </tr>\n",
       "  </tbody>\n",
       "</table>\n",
       "</div>"
      ],
      "text/plain": [
       "       Date       Title    Character(s)      Species Expression(s)  \\\n",
       "0  12/19/21  First Meet  Kazan, Steffen  Wolf, Otter  Shy, Engaged   \n",
       "\n",
       "        Medium  \n",
       "0  Traditional  "
      ]
     },
     "execution_count": 9,
     "metadata": {},
     "output_type": "execute_result"
    }
   ],
   "source": [
    "shy_boi = ['12/19/21', 'First Meet', 'Kazan, Steffen', 'Wolf, Otter',\n",
    "        'Shy, Engaged', 'Traditional'],\n",
    "\n",
    "paco.DataFrame(shy_boi, columns = [\"Date\", \"Title\", \"Character(s)\", \"Species\",\n",
    "                              \"Expression(s)\", \"Medium\"])"
   ]
  },
  {
   "cell_type": "markdown",
   "metadata": {},
   "source": [
    "Nice! And in other example, we'll use a huge dataset and will get data from his artwork from January 2021 alone. The column `source` is included in the sheets but omitted for brevity; it should be something like this:"
   ]
  },
  {
   "cell_type": "code",
   "execution_count": 10,
   "metadata": {},
   "outputs": [
    {
     "data": {
      "text/html": [
       "<div>\n",
       "<style scoped>\n",
       "    .dataframe tbody tr th:only-of-type {\n",
       "        vertical-align: middle;\n",
       "    }\n",
       "\n",
       "    .dataframe tbody tr th {\n",
       "        vertical-align: top;\n",
       "    }\n",
       "\n",
       "    .dataframe thead th {\n",
       "        text-align: right;\n",
       "    }\n",
       "</style>\n",
       "<table border=\"1\" class=\"dataframe\">\n",
       "  <thead>\n",
       "    <tr style=\"text-align: right;\">\n",
       "      <th></th>\n",
       "      <th>Date</th>\n",
       "      <th>Title</th>\n",
       "      <th>Character(s)</th>\n",
       "      <th>Species</th>\n",
       "      <th>Expression(s)</th>\n",
       "      <th>Medium</th>\n",
       "    </tr>\n",
       "  </thead>\n",
       "  <tbody>\n",
       "    <tr>\n",
       "      <th>0</th>\n",
       "      <td>1/5/21</td>\n",
       "      <td>Calm always come</td>\n",
       "      <td>Zak, Cirrus</td>\n",
       "      <td>Fox, Fox</td>\n",
       "      <td>Engaged, Calm</td>\n",
       "      <td>Digital</td>\n",
       "    </tr>\n",
       "    <tr>\n",
       "      <th>1</th>\n",
       "      <td>1/7/21</td>\n",
       "      <td>Alf Doggo</td>\n",
       "      <td>Alf</td>\n",
       "      <td>Dog</td>\n",
       "      <td>Neutral</td>\n",
       "      <td>Digital</td>\n",
       "    </tr>\n",
       "    <tr>\n",
       "      <th>2</th>\n",
       "      <td>1/8/21</td>\n",
       "      <td>A Hidden Shrine</td>\n",
       "      <td>Shibby, Emerald</td>\n",
       "      <td>Fox, Fox</td>\n",
       "      <td>Ecstatic</td>\n",
       "      <td>Traditional</td>\n",
       "    </tr>\n",
       "    <tr>\n",
       "      <th>3</th>\n",
       "      <td>1/14/21</td>\n",
       "      <td>Puck the Sabertooth</td>\n",
       "      <td>Puck</td>\n",
       "      <td>Sabertooth</td>\n",
       "      <td>Laughter, Neutral</td>\n",
       "      <td>Digital</td>\n",
       "    </tr>\n",
       "    <tr>\n",
       "      <th>4</th>\n",
       "      <td>1/15/21</td>\n",
       "      <td>Doctor Nodd</td>\n",
       "      <td>Nodd</td>\n",
       "      <td>Mouse</td>\n",
       "      <td>Curious</td>\n",
       "      <td>Traditional</td>\n",
       "    </tr>\n",
       "    <tr>\n",
       "      <th>5</th>\n",
       "      <td>1/18/21</td>\n",
       "      <td>Turt and Apollo</td>\n",
       "      <td>RadiantBlaze, Turt</td>\n",
       "      <td>Wuskylynx™, Fox</td>\n",
       "      <td>Warm</td>\n",
       "      <td>Digital</td>\n",
       "    </tr>\n",
       "    <tr>\n",
       "      <th>6</th>\n",
       "      <td>1/18/21</td>\n",
       "      <td>Roni and Veemon</td>\n",
       "      <td>Roni, Veemoon</td>\n",
       "      <td>Collie, Digimon</td>\n",
       "      <td>Happy</td>\n",
       "      <td>Traditional</td>\n",
       "    </tr>\n",
       "    <tr>\n",
       "      <th>7</th>\n",
       "      <td>1/20/21</td>\n",
       "      <td>Millones de Kilometros</td>\n",
       "      <td>Sans, Rush</td>\n",
       "      <td>Velociraptor, Reindeer</td>\n",
       "      <td>Engaged, Curious</td>\n",
       "      <td>Digital</td>\n",
       "    </tr>\n",
       "    <tr>\n",
       "      <th>8</th>\n",
       "      <td>1/24/21</td>\n",
       "      <td>Kai Telegram Stickers</td>\n",
       "      <td>Kai (8), Paco</td>\n",
       "      <td>Red Panda, Panda</td>\n",
       "      <td>Warm, Plotting, Blushing, Engaged</td>\n",
       "      <td>Digital</td>\n",
       "    </tr>\n",
       "    <tr>\n",
       "      <th>9</th>\n",
       "      <td>1/27/21</td>\n",
       "      <td>Robin and Nick</td>\n",
       "      <td>Robin Hood, Nick Wilde</td>\n",
       "      <td>Fox, Fox</td>\n",
       "      <td>Engaged, Happy</td>\n",
       "      <td>Digital</td>\n",
       "    </tr>\n",
       "    <tr>\n",
       "      <th>10</th>\n",
       "      <td>1/29/21</td>\n",
       "      <td>Swimming with Stingrays</td>\n",
       "      <td>Mith, Puck, Rabid, Buckley, unknown Stingrays (4)</td>\n",
       "      <td>Otter, Sabertooth, Bunny, Deer, Stingrays (4)</td>\n",
       "      <td>Engaged, Ecstatic, Nervous, Concerned</td>\n",
       "      <td>Digital</td>\n",
       "    </tr>\n",
       "    <tr>\n",
       "      <th>11</th>\n",
       "      <td>1/30/21</td>\n",
       "      <td>The Pier</td>\n",
       "      <td>Adam Prower, Jawbreaker</td>\n",
       "      <td>Fox, Poodle</td>\n",
       "      <td>Engaged</td>\n",
       "      <td>Digital</td>\n",
       "    </tr>\n",
       "    <tr>\n",
       "      <th>12</th>\n",
       "      <td>1/31/21</td>\n",
       "      <td>Samy</td>\n",
       "      <td>Samy</td>\n",
       "      <td>Goat</td>\n",
       "      <td>Neutral</td>\n",
       "      <td>Digital</td>\n",
       "    </tr>\n",
       "  </tbody>\n",
       "</table>\n",
       "</div>"
      ],
      "text/plain": [
       "       Date                    Title  \\\n",
       "0    1/5/21         Calm always come   \n",
       "1    1/7/21                Alf Doggo   \n",
       "2    1/8/21          A Hidden Shrine   \n",
       "3   1/14/21      Puck the Sabertooth   \n",
       "4   1/15/21              Doctor Nodd   \n",
       "5   1/18/21          Turt and Apollo   \n",
       "6   1/18/21          Roni and Veemon   \n",
       "7   1/20/21   Millones de Kilometros   \n",
       "8   1/24/21    Kai Telegram Stickers   \n",
       "9   1/27/21           Robin and Nick   \n",
       "10  1/29/21  Swimming with Stingrays   \n",
       "11  1/30/21                 The Pier   \n",
       "12  1/31/21                     Samy   \n",
       "\n",
       "                                         Character(s)  \\\n",
       "0                                         Zak, Cirrus   \n",
       "1                                                 Alf   \n",
       "2                                     Shibby, Emerald   \n",
       "3                                                Puck   \n",
       "4                                                Nodd   \n",
       "5                                  RadiantBlaze, Turt   \n",
       "6                                       Roni, Veemoon   \n",
       "7                                          Sans, Rush   \n",
       "8                                       Kai (8), Paco   \n",
       "9                              Robin Hood, Nick Wilde   \n",
       "10  Mith, Puck, Rabid, Buckley, unknown Stingrays (4)   \n",
       "11                            Adam Prower, Jawbreaker   \n",
       "12                                               Samy   \n",
       "\n",
       "                                          Species  \\\n",
       "0                                        Fox, Fox   \n",
       "1                                             Dog   \n",
       "2                                        Fox, Fox   \n",
       "3                                      Sabertooth   \n",
       "4                                           Mouse   \n",
       "5                                 Wuskylynx™, Fox   \n",
       "6                                 Collie, Digimon   \n",
       "7                          Velociraptor, Reindeer   \n",
       "8                                Red Panda, Panda   \n",
       "9                                        Fox, Fox   \n",
       "10  Otter, Sabertooth, Bunny, Deer, Stingrays (4)   \n",
       "11                                    Fox, Poodle   \n",
       "12                                           Goat   \n",
       "\n",
       "                            Expression(s)       Medium  \n",
       "0                           Engaged, Calm      Digital  \n",
       "1                                 Neutral      Digital  \n",
       "2                                Ecstatic  Traditional  \n",
       "3                       Laughter, Neutral      Digital  \n",
       "4                                 Curious  Traditional  \n",
       "5                                    Warm      Digital  \n",
       "6                                   Happy  Traditional  \n",
       "7                        Engaged, Curious      Digital  \n",
       "8       Warm, Plotting, Blushing, Engaged      Digital  \n",
       "9                         Engaged, Happy       Digital  \n",
       "10  Engaged, Ecstatic, Nervous, Concerned      Digital  \n",
       "11                                Engaged      Digital  \n",
       "12                                Neutral      Digital  "
      ]
     },
     "execution_count": 10,
     "metadata": {},
     "output_type": "execute_result"
    }
   ],
   "source": [
    "paco_jan_dataset = pandapaco.read_csv('./data/paco-jan2021.csv')\n",
    "paco_jan_dataset"
   ]
  },
  {
   "cell_type": "markdown",
   "metadata": {},
   "source": [
    "Initally, I was using a Python script to convert an exported CSV files off of Google Sheets into JSON files... The only time I realized that this was the most dumbest thing I've made since D3 and Chart.js can read off of CSV files... lol"
   ]
  },
  {
   "cell_type": "code",
   "execution_count": 11,
   "metadata": {},
   "outputs": [
    {
     "ename": "FileNotFoundError",
     "evalue": "[Errno 2] No such file or directory: 'assets/raw_ps.csv'",
     "output_type": "error",
     "traceback": [
      "\u001b[1;31m---------------------------------------------------------------------------\u001b[0m",
      "\u001b[1;31mFileNotFoundError\u001b[0m                         Traceback (most recent call last)",
      "\u001b[1;32md:\\GitHub\\paco-drawing-analytics\\data\\paco-dataset-types.py\u001b[0m in \u001b[0;36m<module>\u001b[1;34m\u001b[0m\n\u001b[0;32m      5\u001b[0m \u001b[1;31m# and will split in each dataset then\u001b[0m\u001b[1;33m\u001b[0m\u001b[1;33m\u001b[0m\u001b[0m\n\u001b[0;32m      6\u001b[0m \u001b[1;31m# dookies out a json file\u001b[0m\u001b[1;33m\u001b[0m\u001b[1;33m\u001b[0m\u001b[0m\n\u001b[1;32m----> 7\u001b[1;33m \u001b[1;32mwith\u001b[0m \u001b[0mopen\u001b[0m\u001b[1;33m(\u001b[0m\u001b[1;34m\"assets/raw_ps.csv\"\u001b[0m\u001b[1;33m,\u001b[0m \u001b[1;34m\"r\"\u001b[0m\u001b[1;33m)\u001b[0m \u001b[1;32mas\u001b[0m \u001b[0mf\u001b[0m\u001b[1;33m:\u001b[0m\u001b[1;33m\u001b[0m\u001b[1;33m\u001b[0m\u001b[0m\n\u001b[0m\u001b[0;32m      8\u001b[0m   \u001b[0mreader\u001b[0m \u001b[1;33m=\u001b[0m \u001b[0mcsv\u001b[0m\u001b[1;33m.\u001b[0m\u001b[0mreader\u001b[0m\u001b[1;33m(\u001b[0m\u001b[0mf\u001b[0m\u001b[1;33m)\u001b[0m\u001b[1;33m\u001b[0m\u001b[1;33m\u001b[0m\u001b[0m\n\u001b[0;32m      9\u001b[0m   \u001b[0mnext\u001b[0m\u001b[1;33m(\u001b[0m\u001b[0mreader\u001b[0m\u001b[1;33m)\u001b[0m\u001b[1;33m\u001b[0m\u001b[1;33m\u001b[0m\u001b[0m\n",
      "\u001b[1;31mFileNotFoundError\u001b[0m: [Errno 2] No such file or directory: 'assets/raw_ps.csv'"
     ]
    }
   ],
   "source": [
    "import csv\n",
    "import json\n",
    "\n",
    "# Specify a CSV files in the assets folder\n",
    "# and will split in each dataset then\n",
    "# dookies out a json file\n",
    "with open(\"assets/raw_ps.csv\", \"r\") as f: \n",
    "  reader = csv.reader(f)\n",
    "  next(reader)\n",
    "  data = []\n",
    "  for row in reader:\n",
    "    data.append(\n",
    "        {\"date\": row[0],\n",
    "         \"name\": row[1],\n",
    "         \"characters\": row[2],\n",
    "         \"species\": row[3],\n",
    "         \"expressions\": row[4],\n",
    "         \"medium\": row[5],\n",
    "         \"source\": row[6]\n",
    "         })\n",
    "\n",
    "with open(\"assets/final.json\", \"w\") as f:\n",
    "  json.dump(data, f, indent=2)\n",
    "  print(\"Dookied out a stupid json file\")"
   ]
  },
  {
   "cell_type": "markdown",
   "metadata": {},
   "source": [
    "## Plotting data\n",
    "First we plot a pie chart for Digital and Traditional artworks lol"
   ]
  },
  {
   "cell_type": "code",
   "execution_count": null,
   "metadata": {},
   "outputs": [
    {
     "data": {
      "image/png": "[encoded data removed]",
      "text/plain": [
       "<Figure size 432x288 with 1 Axes>"
      ]
     },
     "metadata": {},
     "output_type": "display_data"
    }
   ],
   "source": [
    "%run -i data/paco-dataset-types.py"
   ]
  }
 ],
 "metadata": {
  "interpreter": {
   "hash": "4cccef0b623dea535a8b0ba63ca3bed1c9df0f45edf1dfc4827d6800098bd789"
  },
  "kernelspec": {
   "display_name": "Python 3.10.0 64-bit",
   "language": "python",
   "name": "python3"
  },
  "language_info": {
   "codemirror_mode": {
    "name": "ipython",
    "version": 3
   },
   "file_extension": ".py",
   "mimetype": "text/x-python",
   "name": "python",
   "nbconvert_exporter": "python",
   "pygments_lexer": "ipython3",
   "version": "3.10.0"
  },
  "orig_nbformat": 4
 },
 "nbformat": 4,
 "nbformat_minor": 2
}
