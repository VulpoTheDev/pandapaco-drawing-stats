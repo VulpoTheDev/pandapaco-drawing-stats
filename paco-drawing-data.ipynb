{
 "cells": [
  {
   "cell_type": "markdown",
   "metadata": {},
   "source": [
    "# Gathering drawing data\n",
    "\n",
    "> Some of the info provided isn't complete yet and doesn't make any sense \n",
    "> in some parts through out this notebook.\n",
    "\n",
    "## Intro\n",
    "I *manually* collect data from all 1,900+ (and counting) drawings from an experienced furry artist and illustrator, Paco (aka pandapaco, or Paco Panda). The data will collect things such as:\n",
    "\n",
    "- Name and date of the artwork\n",
    "- Species and character names\n",
    "- Number of character in each artwork\n",
    "- Facial expressions\n",
    "- Medium (either drawn digitally or traditional with exceptions of programs and tools used)\n",
    "- Source (either from FurAffinity or DeviantArt)\n",
    "\n",
    "I was also planning to get the most colors used, as in only in each characters, excluding backgrounds, items, etc. However, because I have deal with shading and color correction, it will be a tedious and cumbersome dataset to obtain; yes we can refer it to their fursona's ref sheet and get the colors that way but there are some cases that it won't be available, so for now - I won't add this dataset."
   ]
  },
  {
   "cell_type": "markdown",
   "metadata": {},
   "source": [
    "### `species`, `characters`, and `expressions` columns\n",
    "\n",
    "Since there are 2 or more characters, and some duplicates - there will be an extra set of columns for each `species`, `characters` and `expressions` that'll be incremented by one. I assume that there are by average 3 to 6 characters he draws on each artwork.\n",
    "\n",
    "For generalizing the `species` data to the website, it's going to be explicitly categorized into, well... foxes, canines, cats, yeens, etc. Hybrids are categorized in their own category, while species like protogens, and other exotic and/or fictional species will be categorized as \"Others\"."
   ]
  },
  {
   "cell_type": "markdown",
   "metadata": {},
   "source": [
    "## How this process works"
   ]
  },
  {
   "cell_type": "code",
   "execution_count": null,
   "metadata": {},
   "outputs": [],
   "source": [
    "import pandas as paco"
   ]
  },
  {
   "cell_type": "markdown",
   "metadata": {},
   "source": [
    "[This Google Sheet](https://docs.google.com/spreadsheets/d/1fpNL-qbfZ53H-6WdqEB2X9rwn9QmM1porJqKgBC7rPk/edit?usp=sharing) contains all raw data and get a slice of data as an example to truncate, summarize, visualize some data through the web browser.\n",
    "\n",
    "As an example, we'll take one of his artworks [*\"First Meet\"*](https://www.deviantart.com/pandapaco/art/First-Meet-901151258) and analyze it, the image is cropped for clarity.\n",
    "<p>\n",
    "  <a href=\"https://www.deviantart.com/pandapaco/art/First-Meet-901151258\">\n",
    "    <img src=\"data/img/first_meet_by_pandapaco.jpg\" width=\"600\">\n",
    "  </a>\n",
    "</p>\n",
    "\n",
    "Two characters are visible: which are Kazan and Steffen respectively, their species are wolf and an otter; Kazan's expression is shy, while Steffen is engaging to Kazan, where I append the `Engaged` value in the `Expression(s)` column; the artwork is traditionally drawn taken from a camera. So overall, the result should be something like this in the dataset:"
   ]
  },
  {
   "cell_type": "code",
   "execution_count": null,
   "metadata": {},
   "outputs": [],
   "source": [
    "shy_boi = ['12/19/21', 'First Meet', 'Kazan, Steffen', 'Wolf, Otter',\n",
    "        'Shy, Engaged', 'Traditional'],\n",
    "\n",
    "paco.DataFrame(shy_boi, columns = [\"Date\", \"Title\", \"Character(s)\", \"Species\",\n",
    "                              \"Expression(s)\", \"Medium\"])"
   ]
  },
  {
   "cell_type": "markdown",
   "metadata": {},
   "source": [
    "Nice! And in other example, we'll use a huge dataset and will get data from his artwork from January 2021 alone. The column `source` is included in the sheets but omitted for brevity; it should be something like this:"
   ]
  },
  {
   "cell_type": "code",
   "execution_count": null,
   "metadata": {},
   "outputs": [],
   "source": [
    "paco_jan_dataset = paco.read_csv('./data/paco-jan2021.csv')\n",
    "paco_jan_dataset"
   ]
  },
  {
   "cell_type": "markdown",
   "metadata": {},
   "source": [
    "Initally, I was using a Python script to convert an exported CSV files off of Google Sheets into JSON files... The only time I realized that this was the most dumbest thing I've made since D3 and Chart.js can read off of CSV files... lol"
   ]
  },
  {
   "cell_type": "code",
   "execution_count": null,
   "metadata": {},
   "outputs": [],
   "source": [
    "import csv\n",
    "import json\n",
    "\n",
    "# Specify a CSV files in the assets folder\n",
    "# and will split in each dataset then\n",
    "# dookies out a json file\n",
    "with open(\"assets/raw_ps.csv\", \"r\") as f: \n",
    "  reader = csv.reader(f)\n",
    "  next(reader)\n",
    "  data = []\n",
    "  for row in reader:\n",
    "    data.append(\n",
    "        {\"date\": row[0],\n",
    "         \"name\": row[1],\n",
    "         \"characters\": row[2],\n",
    "         \"species\": row[3],\n",
    "         \"expressions\": row[4],\n",
    "         \"medium\": row[5],\n",
    "         \"source\": row[6]\n",
    "         })\n",
    "\n",
    "with open(\"assets/final.json\", \"w\") as f:\n",
    "  json.dump(data, f, indent=2)\n",
    "  print(\"Dookied out a stupid json file\")"
   ]
  },
  {
   "cell_type": "markdown",
   "metadata": {},
   "source": [
    "## Plotting data\n",
    "First we plot a pie chart for Digital and Traditional artworks lol"
   ]
  },
  {
   "cell_type": "code",
   "execution_count": 7,
   "metadata": {},
   "outputs": [
    {
     "data": {
      "image/png": "[encoded data removed]",
      "text/plain": [
       "<Figure size 432x288 with 1 Axes>"
      ]
     },
     "metadata": {},
     "output_type": "display_data"
    }
   ],
   "source": [
    "%run -i data/paco-dataset-types.py"
   ]
  }
 ],
 "metadata": {
  "interpreter": {
   "hash": "4cccef0b623dea535a8b0ba63ca3bed1c9df0f45edf1dfc4827d6800098bd789"
  },
  "kernelspec": {
   "display_name": "Python 3.10.0 64-bit",
   "language": "python",
   "name": "python3"
  },
  "language_info": {
   "codemirror_mode": {
    "name": "ipython",
    "version": 3
   },
   "file_extension": ".py",
   "mimetype": "text/x-python",
   "name": "python",
   "nbconvert_exporter": "python",
   "pygments_lexer": "ipython3",
   "version": "3.10.0"
  },
  "orig_nbformat": 4
 },
 "nbformat": 4,
 "nbformat_minor": 2
}
